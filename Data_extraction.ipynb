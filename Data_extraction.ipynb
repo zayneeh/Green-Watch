{
  "nbformat": 4,
  "nbformat_minor": 0,
  "metadata": {
    "colab": {
      "provenance": [],
      "mount_file_id": "1g2E2o_ZkHu5qb5UKbOdpmVCWEwF77nuD",
      "authorship_tag": "ABX9TyMMIcysjymQwzYVTS3Gxg+5",
      "include_colab_link": true
    },
    "kernelspec": {
      "name": "python3",
      "display_name": "Python 3"
    },
    "language_info": {
      "name": "python"
    }
  },
  "cells": [
    {
      "cell_type": "markdown",
      "metadata": {
        "id": "view-in-github",
        "colab_type": "text"
      },
      "source": [
        "<a href=\"https://colab.research.google.com/github/zayneeh/Green-Watch/blob/main/Data_extraction.ipynb\" target=\"_parent\"><img src=\"https://colab.research.google.com/assets/colab-badge.svg\" alt=\"Open In Colab\"/></a>"
      ]
    },
    {
      "cell_type": "code",
      "source": [
        "!pip install PyPDF2"
      ],
      "metadata": {
        "colab": {
          "base_uri": "https://localhost:8080/"
        },
        "id": "cNDwyWsQWveE",
        "outputId": "4f054d2d-7ba7-4c2b-992b-5930e71bd0cd"
      },
      "execution_count": 2,
      "outputs": [
        {
          "output_type": "stream",
          "name": "stdout",
          "text": [
            "Requirement already satisfied: PyPDF2 in /usr/local/lib/python3.10/dist-packages (3.0.1)\n"
          ]
        }
      ]
    },
    {
      "cell_type": "code",
      "source": [
        "import PyPDF2\n",
        "import os"
      ],
      "metadata": {
        "id": "E5k5JDLXZzDj"
      },
      "execution_count": 3,
      "outputs": []
    },
    {
      "cell_type": "code",
      "source": [
        "from PyPDF2 import PdfReader\n",
        "\n",
        "# Path to the folder containing the PDFs\n",
        "input_folder = \"/content/drive/MyDrive/GREENWATCH\"\n",
        "\n",
        "# Path to the output text file\n",
        "output_txt_file = \"/content/drive/MyDrive/GREENWATCH/GREEN.txt\"\n",
        "\n",
        "# Open the output text file for writing\n",
        "with open(output_txt_file, \"w\", encoding=\"utf-8\") as outfile:\n",
        "    # Process each PDF in the folder\n",
        "    for filename in os.listdir(input_folder):\n",
        "        if filename.endswith(\".pdf\"):\n",
        "            pdf_path = os.path.join(input_folder, filename)\n",
        "            print(f\"Processing {filename}...\")\n",
        "\n",
        "            # Read the PDF\n",
        "            reader = PdfReader(pdf_path)\n",
        "\n",
        "            # Extract text from each page\n",
        "            for page_num, page in enumerate(reader.pages):\n",
        "                try:\n",
        "                    text = page.extract_text()\n",
        "                    if text:  # Check if text is not empty\n",
        "                        outfile.write(f\"--- Text from {filename}, Page {page_num + 1} ---\\n\")\n",
        "                        outfile.write(text + \"\\n\\n\")\n",
        "                except Exception as e:\n",
        "                    print(f\"Could not extract text from {filename}, Page {page_num + 1}: {e}\")\n",
        "\n",
        "print(f\"All text has been saved to {output_txt_file}.\")\n"
      ],
      "metadata": {
        "colab": {
          "base_uri": "https://localhost:8080/"
        },
        "id": "LupTcs55ZgDK",
        "outputId": "520b26f8-29b1-4d60-a274-51e699754fe7"
      },
      "execution_count": 4,
      "outputs": [
        {
          "output_type": "stream",
          "name": "stdout",
          "text": [
            "Processing Sanitation_and_Wastes_Control_Regulations 2009.pdf...\n",
            "Processing Watershed_Mountainous_Hilly_and_Catchment_Areas_ Regulations 2009.pdf...\n",
            "Processing Permitting_and_licensing_System_ Regulation 2009.pdf...\n",
            "Processing Mining_and_Processing_of_Coal_Ores_Regulations 2009.pdf...\n",
            "Processing Textile_Wearing Apparel_Leather_and_Footwear_Industry_Regulations 2009.pdf...\n",
            "Processing Noise_Standards_and_Control_Regulation 2009 .pdf...\n",
            "Processing Chemical_Pharcaceutical_Soal_and _Detergent_Manufacturing_Industries_ Regulations 2009.pdf...\n",
            "Processing Base_Metals_Iron_and_Steel_Manufacturing_Recyclling _Industries_Sector_Regulations 2011.pdf...\n",
            "Processing NESREA_PCB_Regulations_1.pdf...\n",
            "Processing ACCESS-TO-GENETIC-RESOURCES-AND-BENEFIT-SHARING(1)(1).pdf...\n",
            "Processing Airquality_Regulation.pdf.pdf...\n",
            "Processing Chemicals_Pesticides_Regulation.pdf...\n",
            "Processing Construction_Sector_Regulation 2011  (1).pdf...\n",
            "Processing Control_of_Alien_and_Invasive_Species (1).pdf...\n",
            "Processing CONTROL_OF_BUSH_FOREST_FIRE_AND_OPEN_BURNING (1).pdf...\n",
            "Processing control_of_charcoal_production_and_export (1).pdf...\n",
            "Processing Control_of_Vehicular_Emissions_from_Petrol_and_Diesel_Engines_Regulation 2011  (1).pdf...\n",
            "Processing Dams_Reservior (1).pdf...\n",
            "Processing Desertification_Control_and_Drought_Mitigation Regulation 2011 (1).pdf...\n",
            "Processing Domestic_and_Industrial_Plastic_Rubber_and_Foam_Sector_Regulation 2011 (1).pdf...\n",
            "Processing EE-sector-regulations-2022 (1).pdf...\n",
            "Processing Energy_Sector (1).pdf...\n",
            "Processing Food & Beverage Regulations, Gazetted 2023 (1).pdf...\n",
            "Processing Battery_Control_Regulations (1).pdf...\n",
            "Processing Healthcare_Waste_Regulation (1).pdf...\n",
            "Processing Motor_Vehicle (1).pdf...\n",
            "Processing Non_Metallic_Minerals_Manufacturing_Industries_Regulation 2011 (1).pdf...\n",
            "Processing Ozone-Layer-Protection-2022 (1).pdf...\n",
            "Processing Pulp_Paper_Wood_Wood_Products (1).pdf...\n",
            "Processing Quarrying_and__Blasting_Operations (1).pdf...\n",
            "Processing Soil_Erosion_and_Flood_Control_Regulations 2009 (1).pdf...\n",
            "Processing Standards_for_Telecom_and_Broadcast_Facilities_Regulation 2011 (1).pdf...\n",
            "Processing Surface_and_Groundwater_Quality_Control_Regulation 2011.pdf...\n",
            "Processing Coastal_and_Marine_Area Protection_Regulation 2011.pdf...\n",
            "Processing Protection_of_Endangered_Species_in_International_Trade_Regulation_2011 (1).pdf...\n",
            "All text has been saved to /content/drive/MyDrive/GREENWATCH/GREEN.txt.\n"
          ]
        }
      ]
    },
    {
      "cell_type": "code",
      "source": [],
      "metadata": {
        "id": "sKKnO4ZzaANT"
      },
      "execution_count": null,
      "outputs": []
    }
  ]
}